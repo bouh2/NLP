{
 "cells": [
  {
   "cell_type": "markdown",
   "metadata": {},
   "source": [
    "# IMBD Review challenge. \n",
    "\n",
    "### Prerequisites:\n",
    " - Numpy\n",
    " - Tensorflow\n",
    " - Keras\n",
    " - Globe embeddings (http://nlp.stanford.edu/data/glove.6B.zip)\n",
    "\n",
    "### Logic\n",
    " 1. Load data\n",
    " 2. Explore data\n",
    " 3. Split data into training, validation and test sets\n",
    " 4. Vectorize data\n",
    " 5. Try models\n",
    "    - Glove\n",
    "    - LSTM\n"
   ]
  },
  {
   "cell_type": "markdown",
   "metadata": {},
   "source": [
    "**1. Load data**\n",
    "***"
   ]
  },
  {
   "cell_type": "code",
   "execution_count": 1,
   "metadata": {},
   "outputs": [],
   "source": [
    "import os \n",
    "import random\n",
    "import numpy as np\n",
    "\n",
    "\n",
    "def load_imdb_reviews(data_path, seed=4):\n",
    "    \"\"\"Loads the IMDB reviews text files containing positive, negative and unsupervised (not used) reviews.\n",
    "       Shuffles the data\n",
    "\n",
    "    # Arguments\n",
    "        data_path: string, path to the data directory.\n",
    "\n",
    "    # Returns\n",
    "        Lists: texts and labels.\n",
    "        Number of samples: 50000\n",
    "        Number of categories: 2 (0 - negative, 1 - positive)\n",
    "\n",
    "    \"\"\"\n",
    "    \n",
    "    negative_reviews_file='negative_reviews.txt'\n",
    "    positive_reviews_file='positive_reviews.txt'\n",
    "    unsupervised_reviews_file='unsupervised_reviews.txt'\n",
    "    labels = []\n",
    "    texts = []\n",
    "    \n",
    "    # Load negative reviews\n",
    "    with open(os.path.join(reviews_dir, negative_reviews_file)) as f:\n",
    "      for line in f:\n",
    "        texts.append(line)\n",
    "        labels.append(0)\n",
    "    # Load positive reviews\n",
    "    with open(os.path.join(reviews_dir, positive_reviews_file)) as f:\n",
    "      for line in f:\n",
    "        texts.append(line)\n",
    "        labels.append(1)\n",
    "\n",
    "    # Shuffle the texts and labels.\n",
    "    random.seed(seed)\n",
    "    random.shuffle(texts)\n",
    "    random.seed(seed)\n",
    "    random.shuffle(labels)\n",
    "    \n",
    "    return texts, labels"
   ]
  },
  {
   "cell_type": "code",
   "execution_count": 2,
   "metadata": {},
   "outputs": [
    {
     "name": "stdout",
     "output_type": "stream",
     "text": [
      "Shape of texts list: 50000\n",
      "Shape of labels list: 50000\n"
     ]
    }
   ],
   "source": [
    "\n",
    "reviews_dir = '~/dev/NLP/nlp-challenge'\n",
    "\n",
    "texts, labels = load_imdb_reviews(reviews_dir)\n",
    "\n",
    "print('Shape of texts list:', len(texts))\n",
    "print('Shape of labels list:', len(labels))"
   ]
  },
  {
   "cell_type": "markdown",
   "metadata": {},
   "source": [
    "**2. Explore data**\n",
    "***"
   ]
  },
  {
   "cell_type": "code",
   "execution_count": 3,
   "metadata": {},
   "outputs": [],
   "source": [
    "\n",
    "from collections import Counter\n",
    "import matplotlib.pyplot as plt\n",
    "\n",
    "%matplotlib inline\n",
    "\n",
    "def plot_sample_length_distribution(sample_texts):\n",
    "    \"\"\"Plots the sample length distribution.\n",
    "    # Arguments\n",
    "        samples_texts: list, sample texts.\n",
    "    \"\"\"\n",
    "    plt.hist([len(s) for s in sample_texts], 50)\n",
    "    plt.xlabel('Length of a sample')\n",
    "    plt.ylabel('Number of samples')\n",
    "    plt.title('Sample length distribution')\n",
    "    plt.show()\n",
    "\n",
    "def plot_class_distribution(labels):\n",
    "    \"\"\"Plots the class distribution.\n",
    "    # Arguments\n",
    "        labels: list, label values.\n",
    "    \"\"\"\n",
    "    num_classes = get_num_classes(labels)\n",
    "    count_map = Counter(labels)\n",
    "    counts = [count_map[i] for i in range(num_classes)]\n",
    "    idx = np.arange(num_classes)\n",
    "    plt.bar(idx, counts, width=0.8, color='b')\n",
    "    plt.xlabel('Class')\n",
    "    plt.ylabel('Number of samples')\n",
    "    plt.title('Class distribution')\n",
    "    plt.xticks(idx, idx)\n",
    "    plt.show()\n",
    "    \n",
    "def get_num_classes(labels):\n",
    "    \"\"\"Gets the total number of classes.\n",
    "    # Arguments\n",
    "        labels: list, label values.\n",
    "    # Returns\n",
    "        int, total number of classes.\n",
    "    \"\"\"\n",
    "    num_classes = max(labels) + 1\n",
    "    return num_classes"
   ]
  },
  {
   "cell_type": "code",
   "execution_count": 4,
   "metadata": {},
   "outputs": [
    {
     "data": {
      "image/png": "[encoded data removed]",
      "text/plain": [
       "<Figure size 432x288 with 1 Axes>"
      ]
     },
     "metadata": {
      "needs_background": "light"
     },
     "output_type": "display_data"
    },
    {
     "data": {
      "image/png": "[encoded data removed]",
      "text/plain": [
       "<Figure size 432x288 with 1 Axes>"
      ]
     },
     "metadata": {
      "needs_background": "light"
     },
     "output_type": "display_data"
    }
   ],
   "source": [
    "plot_sample_length_distribution(texts)\n",
    "plot_class_distribution(labels)"
   ]
  },
  {
   "cell_type": "markdown",
   "metadata": {},
   "source": [
    "**3. Split data into training, validation and test sets**\n",
    "***"
   ]
  },
  {
   "cell_type": "code",
   "execution_count": 5,
   "metadata": {},
   "outputs": [],
   "source": [
    "\n",
    "def split_sets(texts, labels, training_samples, validation_samples, test_samples):\n",
    "    \"\"\"Splits the texts and labels into training, validation and test sets.\n",
    "    # Arguments\n",
    "        texts: list, text data.\n",
    "        labels: list, label data.\n",
    "        traning_samples: int, number of samples to use for training.\n",
    "        validation_samples: int, number of samples to use for validation.\n",
    "        test_samples: int, number of samples to use for test.\n",
    "\n",
    "    # Returns\n",
    "        Training, validation and test lists.\n",
    "    \"\"\"\n",
    "    x_train = texts[:training_samples]\n",
    "    y_train = labels[:training_samples]\n",
    "    x_val = texts[training_samples: training_samples + validation_samples]\n",
    "    y_val = labels[training_samples: training_samples + validation_samples]\n",
    "    x_test = texts[training_samples + validation_samples:training_samples + validation_samples + test_samples]\n",
    "    y_test = labels[training_samples + validation_samples:training_samples + validation_samples + test_samples]\n",
    "    \n",
    "    return x_train, y_train, x_val, y_val, x_test, y_test\n"
   ]
  },
  {
   "cell_type": "code",
   "execution_count": 6,
   "metadata": {},
   "outputs": [
    {
     "name": "stdout",
     "output_type": "stream",
     "text": [
      "Length of training list: 40000 40000\n",
      "Length of validation list: 5000 5000\n",
      "Length of test list: 5000 5000\n"
     ]
    }
   ],
   "source": [
    "training_samples = 40000\n",
    "validation_samples = 5000\n",
    "test_samples = 5000\n",
    "\n",
    "x_train, y_train, x_val, y_val, x_test, y_test=split_sets(texts, labels, training_samples, validation_samples, test_samples)\n",
    "\n",
    "print('Length of training list:', len(x_train), len(y_train))\n",
    "print('Length of validation list:',  len(x_val), len(y_val))\n",
    "print('Length of test list:',  len(x_test), len(y_test))\n"
   ]
  },
  {
   "cell_type": "markdown",
   "metadata": {},
   "source": [
    "**4. Vectorize data**\n",
    "***"
   ]
  },
  {
   "cell_type": "code",
   "execution_count": 7,
   "metadata": {},
   "outputs": [
    {
     "name": "stderr",
     "output_type": "stream",
     "text": [
      "Using TensorFlow backend.\n"
     ]
    }
   ],
   "source": [
    "from keras.preprocessing.text import Tokenizer\n",
    "from keras.preprocessing.sequence import pad_sequences\n",
    "import numpy as np\n",
    "\n",
    "\n",
    "def sequence_vectorize(texts, labels, max_words_to_keep, max_review_length):\n",
    "    \"\"\"Vectorizes texts as sequence vectors. Converts labels into tensor.\n",
    "    # Arguments\n",
    "        texts: list, text data.\n",
    "        labels: list, label data.\n",
    "        max_words_to_keep: int, maximum number of words to keep in dataset.\n",
    "        max_review_length: int, maximum number of words to process from the review.\n",
    "    # Returns\n",
    "        Vectorized texts, labels tensor and word index dictionary.\n",
    "    \"\"\"\n",
    "    tokenizer = Tokenizer(num_words=max_words_to_keep)\n",
    "    tokenizer.fit_on_texts(texts)\n",
    "    sequences = tokenizer.texts_to_sequences(texts)\n",
    "    word_index = tokenizer.word_index\n",
    "    data = pad_sequences(sequences, maxlen=max_review_length)\n",
    "\n",
    "    labels = np.asarray(labels)\n",
    "\n",
    "    return data, labels, word_index"
   ]
  },
  {
   "cell_type": "code",
   "execution_count": 8,
   "metadata": {},
   "outputs": [
    {
     "name": "stdout",
     "output_type": "stream",
     "text": [
      "Shape of test tensor: (40000, 100) (40000,)\n",
      "Shape of validation tensor: (5000, 100) (5000,)\n",
      "Shape of test tensor: (5000, 100) (5000,)\n",
      "Found 90965 unique tokens.\n"
     ]
    }
   ],
   "source": [
    "max_words_to_keep = 10000\n",
    "max_review_length = 100\n",
    "\n",
    "x_train, y_train, word_index =sequence_vectorize(x_train, y_train, max_words_to_keep, max_review_length)\n",
    "x_val, y_val, _ =sequence_vectorize(x_val, y_val, max_words_to_keep, max_review_length)\n",
    "x_test, y_test, _ =sequence_vectorize(x_test, y_test, max_words_to_keep, max_review_length)\n",
    "\n",
    "\n",
    "print('Shape of test tensor:', x_train.shape, y_train.shape)\n",
    "print('Shape of validation tensor:',  x_val.shape,  y_val.shape)\n",
    "print('Shape of test tensor:',  x_test.shape,  y_test.shape)\n",
    "print('Found %s unique tokens.' % len(word_index))"
   ]
  },
  {
   "cell_type": "markdown",
   "metadata": {},
   "source": [
    "**5.1 Glove model**\n",
    "***"
   ]
  },
  {
   "cell_type": "code",
   "execution_count": 9,
   "metadata": {},
   "outputs": [],
   "source": [
    "import matplotlib.pyplot as plt\n",
    "\n",
    "def plot_loss_and_accuracy(history):\n",
    "    \"\"\"Helper function to plot training and validation accuracy and loss\n",
    "    # Arguments\n",
    "        Model history\n",
    "    # Returns\n",
    "        None. Plots 2 charts: \n",
    "        - Training and validation accuracy\n",
    "        - Training and validation loss\n",
    "    \"\"\"\n",
    "    acc = history.history['acc']\n",
    "    val_acc = history.history['val_acc']\n",
    "    loss = history.history['loss']\n",
    "    val_loss = history.history['val_loss']\n",
    "\n",
    "    epochs = range(1, len(acc) + 1)\n",
    "\n",
    "    plt.plot(epochs, acc, 'bo', label='Training acc')\n",
    "    plt.plot(epochs, val_acc, 'b', label='Validation acc')\n",
    "    plt.title('Training and validation accuracy')\n",
    "    plt.legend()\n",
    "\n",
    "    plt.figure()\n",
    "\n",
    "    plt.plot(epochs, loss, 'bo', label='Training loss')\n",
    "    plt.plot(epochs, val_loss, 'b', label='Validation loss')\n",
    "    plt.title('Training and validation loss')\n",
    "    plt.legend()\n",
    "\n",
    "    plt.show()"
   ]
  },
  {
   "cell_type": "code",
   "execution_count": 10,
   "metadata": {},
   "outputs": [],
   "source": [
    "def load_glove_embeddings(glove_dir, glove_embeddings):\n",
    "    \"\"\"\n",
    "    # Arguments\n",
    "        glove_dir: path to folder containing glove vectors.\n",
    "        glove_embeddings: name of file with glove vectors.\n",
    "    # Returns\n",
    "        Embedding index.\n",
    "    \"\"\"\n",
    "    embeddings_index = {}\n",
    "    f = open(os.path.join(glove_dir, 'glove.6B.100d.txt'),encoding=\"utf8\")\n",
    "    for line in f:\n",
    "        values = line.split()\n",
    "        word = values[0]\n",
    "        coefs = np.asarray(values[1:], dtype='float32')\n",
    "        embeddings_index[word] = coefs\n",
    "    f.close()\n",
    "    return embeddings_index\n"
   ]
  },
  {
   "cell_type": "code",
   "execution_count": 11,
   "metadata": {},
   "outputs": [
    {
     "name": "stdout",
     "output_type": "stream",
     "text": [
      "Found 400000 word vectors.\n"
     ]
    }
   ],
   "source": [
    "glove_dir = '~/dev/NLP/glove.6B/'\n",
    "glove_embeddings='glove.6B.100d.txt'\n",
    "embeddings_index=load_glove_embeddings(glove_dir, glove_embeddings)\n",
    "\n",
    "print('Found %s word vectors.' % len(embeddings_index))"
   ]
  },
  {
   "cell_type": "code",
   "execution_count": 12,
   "metadata": {},
   "outputs": [],
   "source": [
    "def build_embeddings_matrix(embedding_dim, max_words_to_keep):\n",
    "    \"\"\"\n",
    "    # Arguments\n",
    "        embedding_dim: int, dimension of embedding matrix.\n",
    "        max_words_to_keep: int, maximum number of words to keep in dataset.\n",
    "    # Returns\n",
    "        Embedding index.\n",
    "    \"\"\"\n",
    "    embedding_matrix = np.zeros((max_words_to_keep, embedding_dim))\n",
    "    for word, i in word_index.items():\n",
    "        embedding_vector = embeddings_index.get(word)\n",
    "        if i < max_words_to_keep:\n",
    "            if embedding_vector is not None:\n",
    "                embedding_matrix[i] = embedding_vector\n",
    "    \n",
    "    return embedding_matrix\n"
   ]
  },
  {
   "cell_type": "code",
   "execution_count": 13,
   "metadata": {},
   "outputs": [],
   "source": [
    "embedding_dim = 100\n",
    "embedding_matrix=build_embeddings_matrix(embedding_dim, max_words_to_keep)\n"
   ]
  },
  {
   "cell_type": "code",
   "execution_count": 14,
   "metadata": {},
   "outputs": [],
   "source": [
    "from keras.models import Sequential\n",
    "from keras.layers import Embedding, Flatten, Dense\n",
    "\n",
    "def train_glove_model(x_train, y_train, x_val, y_val, max_words_to_keep, max_review_length, embedding_dim, embedding_matrix):\n",
    "    \"\"\"\n",
    "    # Arguments\n",
    "        x_train, y_train: train tensors.\n",
    "        x_val, y_val: validation tensors.\n",
    "        max_words_to_keep: int, maximum number of words to keep in dataset.\n",
    "        max_review_length: int, maximum number of words to process from the review.\n",
    "        embedding_dim: dimension of embedding matrix\n",
    "        embedding_matrix:\n",
    "    # Returns\n",
    "        Trained model and model history.\n",
    "    \"\"\"\n",
    "    model = Sequential()\n",
    "    model.add(Embedding(max_words_to_keep, embedding_dim, input_length=max_review_length))\n",
    "    model.add(Flatten())\n",
    "    model.add(Dense(32, activation='relu'))\n",
    "    model.add(Dense(1, activation='sigmoid'))\n",
    "\n",
    "    model.layers[0].set_weights([embedding_matrix])\n",
    "    model.layers[0].trainable = False\n",
    "    \n",
    "    model.compile(optimizer='rmsprop',\n",
    "              loss='binary_crossentropy',\n",
    "              metrics=['acc'])\n",
    "    history = model.fit(x_train, y_train,\n",
    "                    epochs=10,\n",
    "                    batch_size=32,\n",
    "                    validation_data=(x_val, y_val))\n",
    "    return model, history\n"
   ]
  },
  {
   "cell_type": "code",
   "execution_count": 19,
   "metadata": {},
   "outputs": [
    {
     "name": "stdout",
     "output_type": "stream",
     "text": [
      "Train on 40000 samples, validate on 5000 samples\n",
      "Epoch 1/10\n",
      "40000/40000 [==============================] - 6s 154us/step - loss: 0.6005 - acc: 0.6732 - val_loss: 0.7881 - val_acc: 0.5182\n",
      "Epoch 2/10\n",
      "40000/40000 [==============================] - 6s 147us/step - loss: 0.5038 - acc: 0.7551 - val_loss: 0.8064 - val_acc: 0.5152\n",
      "Epoch 3/10\n",
      "40000/40000 [==============================] - 6s 147us/step - loss: 0.4631 - acc: 0.7784 - val_loss: 0.8512 - val_acc: 0.5112\n",
      "Epoch 4/10\n",
      "40000/40000 [==============================] - 6s 149us/step - loss: 0.4297 - acc: 0.8001 - val_loss: 0.9179 - val_acc: 0.5104\n",
      "Epoch 5/10\n",
      "40000/40000 [==============================] - 6s 154us/step - loss: 0.3985 - acc: 0.8130 - val_loss: 0.9549 - val_acc: 0.5100\n",
      "Epoch 6/10\n",
      "40000/40000 [==============================] - 6s 156us/step - loss: 0.3710 - acc: 0.8277 - val_loss: 1.0304 - val_acc: 0.5108\n",
      "Epoch 7/10\n",
      "40000/40000 [==============================] - 6s 156us/step - loss: 0.3401 - acc: 0.8429 - val_loss: 1.1593 - val_acc: 0.5094\n",
      "Epoch 8/10\n",
      "40000/40000 [==============================] - 6s 157us/step - loss: 0.3141 - acc: 0.8547 - val_loss: 1.2644 - val_acc: 0.5074\n",
      "Epoch 9/10\n",
      "40000/40000 [==============================] - 6s 158us/step - loss: 0.2880 - acc: 0.8672 - val_loss: 1.1201 - val_acc: 0.5106\n",
      "Epoch 10/10\n",
      "40000/40000 [==============================] - 6s 161us/step - loss: 0.2597 - acc: 0.8809 - val_loss: 1.6187 - val_acc: 0.5102\n",
      "_________________________________________________________________\n",
      "Layer (type)                 Output Shape              Param #   \n",
      "=================================================================\n",
      "embedding_2 (Embedding)      (None, 100, 100)          1000000   \n",
      "_________________________________________________________________\n",
      "flatten_2 (Flatten)          (None, 10000)             0         \n",
      "_________________________________________________________________\n",
      "dense_3 (Dense)              (None, 32)                320032    \n",
      "_________________________________________________________________\n",
      "dense_4 (Dense)              (None, 1)                 33        \n",
      "=================================================================\n",
      "Total params: 1,320,065\n",
      "Trainable params: 320,065\n",
      "Non-trainable params: 1,000,000\n",
      "_________________________________________________________________\n"
     ]
    },
    {
     "data": {
      "image/png": "[encoded data removed]",
      "text/plain": [
       "<Figure size 432x288 with 1 Axes>"
      ]
     },
     "metadata": {
      "needs_background": "light"
     },
     "output_type": "display_data"
    },
    {
     "data": {
      "image/png": "[encoded data removed]",
      "text/plain": [
       "<Figure size 432x288 with 1 Axes>"
      ]
     },
     "metadata": {
      "needs_background": "light"
     },
     "output_type": "display_data"
    }
   ],
   "source": [
    "%matplotlib inline\n",
    "\n",
    "model_glove, history_glove = train_glove_model(x_train, y_train, x_val, y_val, max_words_to_keep, max_review_length, embedding_dim, embedding_matrix)\n",
    "model_glove.summary()\n",
    "model_glove.save('model_glove.h5')\n",
    "plot_loss_and_accuracy(history_glove)"
   ]
  },
  {
   "cell_type": "code",
   "execution_count": 18,
   "metadata": {},
   "outputs": [],
   "source": [
    "import tensorflow as tf \n",
    "tf.logging.set_verbosity(tf.logging.ERROR)"
   ]
  },
  {
   "cell_type": "code",
   "execution_count": 20,
   "metadata": {},
   "outputs": [
    {
     "name": "stdout",
     "output_type": "stream",
     "text": [
      "Accuracy: 54.22%\n"
     ]
    }
   ],
   "source": [
    "scores = model_glove.evaluate(x_test, y_test, verbose=0) \n",
    "print(\"Accuracy: %.2f%%\" % (scores[1]*100))\n"
   ]
  },
  {
   "cell_type": "markdown",
   "metadata": {},
   "source": [
    "**5.2 LSTM model**\n",
    "***"
   ]
  },
  {
   "cell_type": "code",
   "execution_count": 21,
   "metadata": {},
   "outputs": [],
   "source": [
    "from keras.layers import LSTM\n",
    "from keras.models import Sequential\n",
    "from keras.layers import Embedding, Flatten, Dense\n",
    "\n",
    "\n",
    "def train_lstm_model(x_train, y_train, x_val, y_val, max_words_to_keep):\n",
    "    \"\"\"\n",
    "    # Arguments\n",
    "        x_train, y_train: train tensors.\n",
    "        x_val, y_val: validation tensors.\n",
    "        max_words_to_keep: int, maximum number of words to keep in dataset.\n",
    "    # Returns\n",
    "        Trained model and model history.\n",
    "    \"\"\"\n",
    "    model = Sequential()\n",
    "    model.add(Embedding(max_words_to_keep, 32))\n",
    "    model.add(LSTM(32))\n",
    "    model.add(Dense(1, activation='sigmoid'))\n",
    "\n",
    "    model.compile(optimizer='rmsprop',\n",
    "                  loss='binary_crossentropy',\n",
    "                  metrics=['acc'])\n",
    "    history = model.fit(x_train, y_train,\n",
    "                        epochs=10,\n",
    "                        batch_size=128,\n",
    "                        validation_data=(x_val, y_val))\n",
    "    return model, history\n"
   ]
  },
  {
   "cell_type": "code",
   "execution_count": 22,
   "metadata": {},
   "outputs": [
    {
     "name": "stdout",
     "output_type": "stream",
     "text": [
      "Train on 40000 samples, validate on 5000 samples\n",
      "Epoch 1/10\n",
      "40000/40000 [==============================] - 79s 2ms/step - loss: 0.4180 - acc: 0.8057 - val_loss: 1.1330 - val_acc: 0.5274\n",
      "Epoch 2/10\n",
      "40000/40000 [==============================] - 81s 2ms/step - loss: 0.2952 - acc: 0.8772 - val_loss: 1.0703 - val_acc: 0.5324\n",
      "Epoch 3/10\n",
      "40000/40000 [==============================] - 82s 2ms/step - loss: 0.2661 - acc: 0.8909 - val_loss: 0.9585 - val_acc: 0.5318\n",
      "Epoch 4/10\n",
      "40000/40000 [==============================] - 83s 2ms/step - loss: 0.2494 - acc: 0.8990 - val_loss: 1.3086 - val_acc: 0.5278\n",
      "Epoch 5/10\n",
      "40000/40000 [==============================] - 83s 2ms/step - loss: 0.2372 - acc: 0.9035 - val_loss: 1.0328 - val_acc: 0.5362\n",
      "Epoch 6/10\n",
      "40000/40000 [==============================] - 83s 2ms/step - loss: 0.2258 - acc: 0.9099 - val_loss: 1.0835 - val_acc: 0.5340\n",
      "Epoch 7/10\n",
      "40000/40000 [==============================] - 83s 2ms/step - loss: 0.2153 - acc: 0.9143 - val_loss: 1.2028 - val_acc: 0.5248\n",
      "Epoch 8/10\n",
      "40000/40000 [==============================] - 83s 2ms/step - loss: 0.2057 - acc: 0.9186 - val_loss: 1.4267 - val_acc: 0.5228\n",
      "Epoch 9/10\n",
      "40000/40000 [==============================] - 83s 2ms/step - loss: 0.1961 - acc: 0.9229 - val_loss: 1.1528 - val_acc: 0.5318\n",
      "Epoch 10/10\n",
      "40000/40000 [==============================] - 83s 2ms/step - loss: 0.1859 - acc: 0.9289 - val_loss: 1.3337 - val_acc: 0.5290\n",
      "_________________________________________________________________\n",
      "Layer (type)                 Output Shape              Param #   \n",
      "=================================================================\n",
      "embedding_3 (Embedding)      (None, None, 32)          320000    \n",
      "_________________________________________________________________\n",
      "lstm_1 (LSTM)                (None, 32)                8320      \n",
      "_________________________________________________________________\n",
      "dense_5 (Dense)              (None, 1)                 33        \n",
      "=================================================================\n",
      "Total params: 328,353\n",
      "Trainable params: 328,353\n",
      "Non-trainable params: 0\n",
      "_________________________________________________________________\n"
     ]
    },
    {
     "data": {
      "image/png": "[encoded data removed]",
      "text/plain": [
       "<Figure size 432x288 with 1 Axes>"
      ]
     },
     "metadata": {
      "needs_background": "light"
     },
     "output_type": "display_data"
    },
    {
     "data": {
      "image/png": "[encoded data removed]",
      "text/plain": [
       "<Figure size 432x288 with 1 Axes>"
      ]
     },
     "metadata": {
      "needs_background": "light"
     },
     "output_type": "display_data"
    }
   ],
   "source": [
    "\n",
    "model_lstm, history_lstm = train_lstm_model(x_train, y_train, x_val, y_val, max_words_to_keep)\n",
    "model_lstm.summary()\n",
    "model_lstm.save('model_lstm.h5')\n",
    "plot_loss_and_accuracy(history_lstm)"
   ]
  },
  {
   "cell_type": "code",
   "execution_count": 23,
   "metadata": {},
   "outputs": [
    {
     "name": "stdout",
     "output_type": "stream",
     "text": [
      "Accuracy: 53.34%\n"
     ]
    }
   ],
   "source": [
    "scores = model_lstm.evaluate(x_test, y_test, verbose=0) \n",
    "print(\"Accuracy: %.2f%%\" % (scores[1]*100))"
   ]
  },
  {
   "cell_type": "code",
   "execution_count": null,
   "metadata": {},
   "outputs": [],
   "source": []
  }
 ],
 "metadata": {
  "kernelspec": {
   "display_name": "Python 3",
   "language": "python",
   "name": "python3"
  },
  "language_info": {
   "codemirror_mode": {
    "name": "ipython",
    "version": 3
   },
   "file_extension": ".py",
   "mimetype": "text/x-python",
   "name": "python",
   "nbconvert_exporter": "python",
   "pygments_lexer": "ipython3",
   "version": "3.7.3"
  }
 },
 "nbformat": 4,
 "nbformat_minor": 2
}
